{
 "cells": [
  {
   "cell_type": "markdown",
   "metadata": {},
   "source": [
    "# Derivative of Matrix"
   ]
  },
  {
   "cell_type": "markdown",
   "metadata": {},
   "source": [
    "## import library"
   ]
  },
  {
   "cell_type": "code",
   "execution_count": 151,
   "metadata": {},
   "outputs": [],
   "source": [
    "import numpy as np\n",
    "import matplotlib.image as img\n",
    "import matplotlib.pyplot as plt\n",
    "import matplotlib.colors as colors"
   ]
  },
  {
   "cell_type": "markdown",
   "metadata": {},
   "source": [
    "## load image "
   ]
  },
  {
   "cell_type": "code",
   "execution_count": 152,
   "metadata": {
    "scrolled": true
   },
   "outputs": [
    {
     "name": "stdout",
     "output_type": "stream",
     "text": [
      "[[[ 79 124 166]\n",
      "  [ 77 122 164]\n",
      "  [ 74 118 163]\n",
      "  ...\n",
      "  [ 19  64 106]\n",
      "  [ 22  67 109]\n",
      "  [ 22  69 113]]\n",
      "\n",
      " [[ 73 118 160]\n",
      "  [ 72 117 159]\n",
      "  [ 70 115 157]\n",
      "  ...\n",
      "  [ 24  69 111]\n",
      "  [ 24  71 113]\n",
      "  [ 26  73 117]]\n",
      "\n",
      " [[ 68 113 155]\n",
      "  [ 67 112 154]\n",
      "  [ 64 111 153]\n",
      "  ...\n",
      "  [ 26  73 115]\n",
      "  [ 28  75 119]\n",
      "  [ 29  78 121]]\n",
      "\n",
      " ...\n",
      "\n",
      " [[ 37  95 145]\n",
      "  [ 37  95 145]\n",
      "  [ 38  96 146]\n",
      "  ...\n",
      "  [ 38 100 151]\n",
      "  [ 38 100 151]\n",
      "  [ 38 100 151]]\n",
      "\n",
      " [[ 37  95 145]\n",
      "  [ 37  95 145]\n",
      "  [ 37  95 145]\n",
      "  ...\n",
      "  [ 38 100 151]\n",
      "  [ 38 100 151]\n",
      "  [ 38 100 151]]\n",
      "\n",
      " [[ 37  95 145]\n",
      "  [ 37  95 145]\n",
      "  [ 37  95 145]\n",
      "  ...\n",
      "  [ 38 100 151]\n",
      "  [ 38 100 151]\n",
      "  [ 38 100 151]]]\n"
     ]
    }
   ],
   "source": [
    "I = img.imread('example.jpg')  \n",
    "print(I)"
   ]
  },
  {
   "cell_type": "markdown",
   "metadata": {},
   "source": [
    "## check the size of image"
   ]
  },
  {
   "cell_type": "code",
   "execution_count": 153,
   "metadata": {
    "scrolled": false
   },
   "outputs": [
    {
     "name": "stdout",
     "output_type": "stream",
     "text": [
      "3\n",
      "(453, 680, 3)\n"
     ]
    }
   ],
   "source": [
    "n_row = I.shape[0]\n",
    "n_col = I.shape[1]\n",
    "print(I.shape[2])\n",
    "print(I.shape)"
   ]
  },
  {
   "cell_type": "markdown",
   "metadata": {},
   "source": [
    "## convert the input image into gray scale if it is color"
   ]
  },
  {
   "cell_type": "code",
   "execution_count": 154,
   "metadata": {
    "scrolled": false
   },
   "outputs": [],
   "source": [
    "if I.shape[2] == 3:\n",
    "    red = I[:,:,0]\n",
    "    blue = I[:,:,1]\n",
    "    green = I[:,:,2]\n",
    "    I = 0.2126 * red + 0.7152 * blue + 0.0722 * green\n"
   ]
  },
  {
   "cell_type": "markdown",
   "metadata": {},
   "source": [
    "## normalize input image so that the range of image is $[0, 1]$"
   ]
  },
  {
   "cell_type": "code",
   "execution_count": 155,
   "metadata": {},
   "outputs": [],
   "source": [
    "I = I / 255.0\n"
   ]
  },
  {
   "cell_type": "markdown",
   "metadata": {},
   "source": [
    "```git commit -a -m \"load image\" ``` \\\n",
    "```git push origin master```"
   ]
  },
  {
   "cell_type": "markdown",
   "metadata": {},
   "source": [
    "## generate a matrix to compute the derivative in $x$-direction"
   ]
  },
  {
   "cell_type": "code",
   "execution_count": 156,
   "metadata": {
    "scrolled": true
   },
   "outputs": [
    {
     "ename": "SyntaxError",
     "evalue": "invalid syntax (<ipython-input-156-ed60e25ca172>, line 1)",
     "output_type": "error",
     "traceback": [
      "\u001b[1;36m  File \u001b[1;32m\"<ipython-input-156-ed60e25ca172>\"\u001b[1;36m, line \u001b[1;32m1\u001b[0m\n\u001b[1;33m    Dx =\u001b[0m\n\u001b[1;37m         ^\u001b[0m\n\u001b[1;31mSyntaxError\u001b[0m\u001b[1;31m:\u001b[0m invalid syntax\n"
     ]
    }
   ],
   "source": [
    "Dx = \n"
   ]
  },
  {
   "cell_type": "markdown",
   "metadata": {},
   "source": [
    "## compute the derivative of $I$ with respect to $x$-direction"
   ]
  },
  {
   "cell_type": "code",
   "execution_count": null,
   "metadata": {},
   "outputs": [],
   "source": [
    "Ix = "
   ]
  },
  {
   "cell_type": "markdown",
   "metadata": {},
   "source": [
    "```git commit -a -m \"compute the derivative in x-direction\"``` \\\n",
    "```git push origin master```"
   ]
  },
  {
   "cell_type": "markdown",
   "metadata": {},
   "source": [
    "## generate a matrix to compute the derivative in $y$-direction"
   ]
  },
  {
   "cell_type": "code",
   "execution_count": null,
   "metadata": {},
   "outputs": [],
   "source": [
    "Dy = \n"
   ]
  },
  {
   "cell_type": "markdown",
   "metadata": {},
   "source": [
    "## compute the derivative of $I$ with respect to $y$-direction"
   ]
  },
  {
   "cell_type": "code",
   "execution_count": null,
   "metadata": {},
   "outputs": [],
   "source": [
    "Iy = "
   ]
  },
  {
   "cell_type": "markdown",
   "metadata": {},
   "source": [
    "```git commit -a -m \"compute the derivative in y-direction\"``` \\\n",
    "```git push origin master```"
   ]
  },
  {
   "cell_type": "markdown",
   "metadata": {},
   "source": [
    "## compute $L_2^2$ of the gradient of $I$"
   ]
  },
  {
   "cell_type": "code",
   "execution_count": null,
   "metadata": {},
   "outputs": [],
   "source": [
    "norm_gradient = "
   ]
  },
  {
   "cell_type": "markdown",
   "metadata": {},
   "source": [
    "## define functions for the visualization"
   ]
  },
  {
   "cell_type": "code",
   "execution_count": null,
   "metadata": {},
   "outputs": [],
   "source": [
    "def plot_image(I):\n",
    "    \n",
    "    plt.figure(figsize=(10,10))\n",
    "    plt.imshow( , , )\n",
    "    plt.title('input image')\n",
    "    plt.axis('off')\n",
    "        \n",
    "def plot_image_derivative_x(Ix):\n",
    "    \n",
    "    plt.figure(figsize=(10,10))\n",
    "    plt.imshow( , , )\n",
    "    plt.title('image derivative of x')\n",
    "    plt.axis('off')\n",
    "\n",
    "    \n",
    "def plot_image_derivative_y(Iy):\n",
    "    \n",
    "    plt.figure(figsize=(10,10))\n",
    "    plt.imshow( , , )\n",
    "    plt.title('image derivative of y')\n",
    "    plt.axis('off')\n",
    "\n",
    "    \n",
    "def plot_norm_gradient(norm_gradient):\n",
    "\n",
    "    plt.figure(figsize=(10,10))\n",
    "    plt.imshow( , , )\n",
    "    plt.title('norm gradient')\n",
    "    plt.axis('off')"
   ]
  },
  {
   "cell_type": "markdown",
   "metadata": {},
   "source": [
    "```git commit -a -m \"define functions for the visualization\"``` \\\n",
    "```git push origin master```"
   ]
  },
  {
   "cell_type": "markdown",
   "metadata": {},
   "source": [
    "# ###################################################################"
   ]
  },
  {
   "cell_type": "markdown",
   "metadata": {},
   "source": [
    "# # results"
   ]
  },
  {
   "cell_type": "markdown",
   "metadata": {},
   "source": [
    "# ###################################################################"
   ]
  },
  {
   "cell_type": "markdown",
   "metadata": {},
   "source": [
    "# # 01. plot the input image in gray scale"
   ]
  },
  {
   "cell_type": "code",
   "execution_count": null,
   "metadata": {},
   "outputs": [],
   "source": [
    "plot_image(I)"
   ]
  },
  {
   "cell_type": "markdown",
   "metadata": {},
   "source": [
    "# # 02. plot the derivative $I_x$ of input image in x-direction"
   ]
  },
  {
   "cell_type": "code",
   "execution_count": null,
   "metadata": {},
   "outputs": [],
   "source": [
    "plot_image_derivative_x(Ix)"
   ]
  },
  {
   "cell_type": "markdown",
   "metadata": {},
   "source": [
    "# # 03. plot the derivative $I_y$ of input image in y-direction"
   ]
  },
  {
   "cell_type": "code",
   "execution_count": null,
   "metadata": {},
   "outputs": [],
   "source": [
    "plot_image_derivative_y(Iy)"
   ]
  },
  {
   "cell_type": "markdown",
   "metadata": {},
   "source": [
    "# # 04. plot $L_2^2$ norm $I_x^2 + I_y^2$ of the gradient of input image"
   ]
  },
  {
   "cell_type": "code",
   "execution_count": null,
   "metadata": {},
   "outputs": [],
   "source": [
    "plot_norm_gradient(norm_gradient)"
   ]
  }
 ],
 "metadata": {
  "kernelspec": {
   "display_name": "Python 3",
   "language": "python",
   "name": "python3"
  },
  "language_info": {
   "codemirror_mode": {
    "name": "ipython",
    "version": 3
   },
   "file_extension": ".py",
   "mimetype": "text/x-python",
   "name": "python",
   "nbconvert_exporter": "python",
   "pygments_lexer": "ipython3",
   "version": "3.8.5"
  }
 },
 "nbformat": 4,
 "nbformat_minor": 2
}
